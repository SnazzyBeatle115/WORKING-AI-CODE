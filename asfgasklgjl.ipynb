{
 "cells": [
  {
   "cell_type": "code",
   "execution_count": null,
   "metadata": {},
   "outputs": [],
   "source": [
    "# !py -m pip install opencv-python\n",
    "!py -m pip install face_recognition"
   ]
  },
  {
   "cell_type": "code",
   "execution_count": null,
   "metadata": {},
   "outputs": [],
   "source": [
    "import cv2\n",
    "import face_recognition"
   ]
  },
  {
   "cell_type": "code",
   "execution_count": null,
   "metadata": {},
   "outputs": [],
   "source": [
    "known = cv2.imread(\"images/Known.jpg\", 0)\n",
    "known = cv2.cvtColor(known, cv2.COLOR_BGR2RGB)\n",
    "unknown = cv2.imread(\"images/Unknown1.jpg\", 0)\n",
    "unknown = cv2.cvtColor(known, cv2.COLOR_BGR2RGB)"
   ]
  },
  {
   "cell_type": "code",
   "execution_count": null,
   "metadata": {},
   "outputs": [],
   "source": [
    "def encode_img (img):\n",
    "    return face_recognition.face_encodings(img)[0]"
   ]
  },
  {
   "cell_type": "code",
   "execution_count": null,
   "metadata": {},
   "outputs": [],
   "source": [
    "#encode the known image\n",
    "known_encoding = encode_img(known)\n",
    "unknown_encoding = encode_img(unknown)\n",
    "print(known_encoding)\n",
    "print(unknown_encoding)"
   ]
  },
  {
   "cell_type": "code",
   "execution_count": null,
   "metadata": {},
   "outputs": [],
   "source": [
    "print(face_recognition.compare_faces([known_encoding], unknown_encoding))"
   ]
  }
 ],
 "metadata": {
  "kernelspec": {
   "display_name": "Python 3.10.8 64-bit",
   "language": "python",
   "name": "python3"
  },
  "language_info": {
   "codemirror_mode": {
    "name": "ipython",
    "version": 3
   },
   "file_extension": ".py",
   "mimetype": "text/x-python",
   "name": "python",
   "nbconvert_exporter": "python",
   "pygments_lexer": "ipython3",
   "version": "3.10.8"
  },
  "orig_nbformat": 4,
  "vscode": {
   "interpreter": {
    "hash": "c219292f3fd24183b3549b5d3969fdf558971f1f9390898e977007c63d46eb54"
   }
  }
 },
 "nbformat": 4,
 "nbformat_minor": 2
}
